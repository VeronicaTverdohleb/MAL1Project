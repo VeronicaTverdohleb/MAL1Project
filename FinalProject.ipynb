{
 "cells": [
  {
   "cell_type": "markdown",
   "metadata": {},
   "source": [
    "# Attribute mapping"
   ]
  },
  {
   "cell_type": "markdown",
   "metadata": {},
   "source": [
    "## 1. Analysis"
   ]
  },
  {
   "cell_type": "markdown",
   "metadata": {},
   "source": [
    "### 1.1 Project Description \n",
    "Find a problem/task that everyone in the group finds interesting"
   ]
  },
  {
   "cell_type": "code",
   "execution_count": null,
   "metadata": {
    "vscode": {
     "languageId": "plaintext"
    }
   },
   "outputs": [],
   "source": []
  },
  {
   "cell_type": "markdown",
   "metadata": {},
   "source": [
    "### 1.2 Business Objective Definition\n",
    "Define the objective in business terms"
   ]
  },
  {
   "cell_type": "markdown",
   "metadata": {},
   "source": [
    "### 1.3 Framing the problem\n",
    "This is a supervised learning problem since labeled data (attribute mappings) will be used for training the model. The task is classification: mapping attributes to predefined categories.\n",
    "\n",
    "The target audience is Stibo Systems needing to harmonize data from multiple sources to improve MDM systems. The model is trained on grocery product attributes but the ultimate goal is to use it for any product category.\n"
   ]
  },
  {
   "cell_type": "markdown",
   "metadata": {},
   "source": [
    "### 1.4 Performance Metrics \n",
    "How should performance be measured?"
   ]
  }
 ],
 "metadata": {
  "language_info": {
   "name": "python"
  }
 },
 "nbformat": 4,
 "nbformat_minor": 2
}
