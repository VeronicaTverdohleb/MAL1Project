{
 "cells": [
  {
   "cell_type": "markdown",
   "metadata": {},
   "source": [
    "# Attribute mapping"
   ]
  },
  {
   "cell_type": "markdown",
   "metadata": {},
   "source": [
    "## 1. Analysis"
   ]
  },
  {
   "cell_type": "markdown",
   "metadata": {},
   "source": [
    "### 1.1 Project Description \n",
    "Find a problem/task that everyone in the group finds interesting"
   ]
  },
  {
   "cell_type": "code",
   "execution_count": null,
   "metadata": {
    "vscode": {
     "languageId": "plaintext"
    }
   },
   "outputs": [],
   "source": []
  },
  {
   "cell_type": "markdown",
   "metadata": {},
   "source": [
    "Stibo Systems, a leading provider of MDM solutions, offers tools that enable organizations to manage and link key data domains such as products, customers, and suppliers. \n",
    "\n",
    "The organizations often use different names for the same data attributes which brings significant challenges. For instance, two grocery companies might label the fat content in milk differently—one as \"fat percentage\" and the other as \"fat content.\" To address this inconsistency, Stibo Systems has identified the need for a solution capable of accurately mapping these variations to a unified standard."
   ]
  },
  {
   "cell_type": "markdown",
   "metadata": {},
   "source": [
    "### 1.2 Business Objective Definition\n",
    "Define the objective in business terms"
   ]
  },
  {
   "cell_type": "markdown",
   "metadata": {},
   "source": [
    "We believe our solution will help Stibo Systems with saving time and automating atribute mapping. With the above statement in mind, our solution would give Stibo Systems access to a tool that would allow them to continue collecting and storing data from different sources regardless of inconsistency in attribute naming between products. This solution also contributes to a wider standardization of attribute naming in Stibo Systems."
   ]
  },
  {
   "cell_type": "markdown",
   "metadata": {},
   "source": [
    "### 1.3 Framing the problem\n",
    "This is a supervised learning problem since labeled data (attribute mappings) will be used for training the model. The task is classification: mapping attributes to predefined categories.\n",
    "\n",
    "The target audience is Stibo Systems needing to harmonize data from multiple sources to improve MDM systems. The model is trained on grocery product attributes but the ultimate goal is to use it for any product category.\n"
   ]
  },
  {
   "cell_type": "markdown",
   "metadata": {},
   "source": [
    "This issue is a supervised learning problem."
   ]
  },
  {
   "cell_type": "markdown",
   "metadata": {},
   "source": [
    "### 1.4 Performance Metrics \n",
    "How should performance be measured?"
   ]
  }
 ],
 "metadata": {
  "language_info": {
   "name": "python"
  }
 },
 "nbformat": 4,
 "nbformat_minor": 2
}
