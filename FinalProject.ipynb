{
 "cells": [
  {
   "cell_type": "markdown",
   "metadata": {},
   "source": [
    "# Attribute mapping"
   ]
  },
  {
   "cell_type": "markdown",
   "metadata": {},
   "source": [
    "## 1. Analysis"
   ]
  },
  {
   "cell_type": "markdown",
   "metadata": {},
   "source": [
    "### 1.1 Project Description \n",
    "Find a problem/task that everyone in the group finds interesting"
   ]
  },
  {
   "cell_type": "markdown",
   "metadata": {},
   "source": [
    "### 1.2 Business Objective Definition\n",
    "Define the objective in business terms"
   ]
  },
  {
   "cell_type": "markdown",
   "metadata": {},
   "source": [
    "### 1.3 Framing the problem\n",
    "Problem Type\n",
    "Thsi is a supervised learnign problem since labeled data (attribute mappings) will be used for training the model. The task is classification: mapping attributes to predefined categories.\n",
    "\n",
    "Target Audience \n",
    "Businesses (for now Stibo Systems) needing to harmonize data from multiple sources to improve MDM systems. The model is trained on grocery product attributes but the ultimate goal is for it to \n",
    "How should you frame the problem (supervised/unsupervised etc.)?\n"
   ]
  },
  {
   "cell_type": "markdown",
   "metadata": {},
   "source": [
    "### 1.4 Performance Metrics \n",
    "How should performance be measured?"
   ]
  }
 ],
 "metadata": {
  "language_info": {
   "name": "python"
  }
 },
 "nbformat": 4,
 "nbformat_minor": 2
}
